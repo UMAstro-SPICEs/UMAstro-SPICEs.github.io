{
 "cells": [
  {
   "cell_type": "code",
   "execution_count": null,
   "metadata": {},
   "outputs": [],
   "source": [
    "import numpy as np\n",
    "import matplotlib.pyplot as plt\n",
    "\n",
    "from astropy.io import ascii\n",
    "\n",
    "from ipywidgets import widgets\n",
    "from ipywidgets import interact\n",
    "\n",
    "from matplotlib.gridspec import GridSpec\n",
    "\n",
    "%matplotlib inline"
   ]
  },
  {
   "cell_type": "code",
   "execution_count": null,
   "metadata": {},
   "outputs": [],
   "source": [
    "TARGET = \"GX339-4\"\n",
    "maxi_data = ascii.read(\"data/{}_lc_1day_all.dat\".format(TARGET))"
   ]
  },
  {
   "cell_type": "code",
   "execution_count": null,
   "metadata": {},
   "outputs": [],
   "source": [
    "MJD = maxi_data['col1']\n",
    "total = maxi_data['col2']\n",
    "soft  = maxi_data['col4']\n",
    "med   = maxi_data['col6']\n",
    "hard  = maxi_data['col8']"
   ]
  },
  {
   "cell_type": "code",
   "execution_count": null,
   "metadata": {},
   "outputs": [],
   "source": [
    "plt.plot(MJD, soft, color='r', label='2-4 keV')\n",
    "plt.plot(MJD, med, color='g', label='4-10 keV')\n",
    "plt.plot(MJD, hard, color='b', label='10-20 keV')\n",
    "plt.plot(MJD, total, color='k', label='2-20 keV')\n",
    "plt.legend()\n",
    "\n",
    "plt.axvline(59200)"
   ]
  },
  {
   "cell_type": "code",
   "execution_count": null,
   "metadata": {},
   "outputs": [],
   "source": [
    "# Any flares? Mark them here\n",
    "flare1 = (MJD >= 55200) & (MJD <= 55600)\n",
    "flare2 = (MJD >= 56950) & (MJD <= 57250)\n",
    "flare3 = (MJD >= 58750) & (MJD <= 58950)"
   ]
  },
  {
   "cell_type": "code",
   "execution_count": null,
   "metadata": {},
   "outputs": [],
   "source": [
    "hratio = med/soft\n",
    "ii = (total > 0)\n",
    "\n",
    "plt.scatter(hratio[ii], total[ii], s=3, color='k', alpha=0.3, label='')\n",
    "plt.scatter(hratio[flare1], total[flare1], s=10, color='orange', label='Flare 1')\n",
    "plt.scatter(hratio[flare2], total[flare2], s=10, color='violet', label='Flare 2')\n",
    "plt.scatter(hratio[flare3], total[flare3], s=10, color='cyan', label='Flare 3')\n",
    "\n",
    "plt.scatter(hratio[-1], total[-1], s=100, edgecolor='k', color='r', label='Now')\n",
    "plt.legend()\n",
    "\n",
    "plt.ylim(0, )\n",
    "plt.xlim(0, 1.5)\n",
    "plt.xlabel(\"Hardness ratio (4-10 keV / 2-4 keV)\")\n",
    "plt.ylabel(\"Total Flux (2-20 keV)\")"
   ]
  },
  {
   "cell_type": "code",
   "execution_count": null,
   "metadata": {},
   "outputs": [],
   "source": [
    "def plot_diagram(mjd_left):\n",
    "    width = 30\n",
    "    mjd_right = mjd_left + width\n",
    "    fig = plt.figure(figsize=(8,6))\n",
    "    gs = GridSpec(2, 1, height_ratios=(1,2))\n",
    "    \n",
    "    \n",
    "    ax0 = plt.subplot(gs[0])\n",
    "    ax0.plot(MJD, total, color='k')\n",
    "    ax0.axvspan(mjd_left, mjd_right, color='r', alpha=0.3)\n",
    "    \n",
    "    imjd = (MJD >= mjd_left) & (MJD <= mjd_right)\n",
    "    \n",
    "    ax1 = plt.subplot(gs[1])\n",
    "    ax1.scatter(hratio, total, s=3, color='k', alpha=0.3, label='')\n",
    "    ax1.scatter(hratio[imjd], total[imjd], s=10, color='r', label='')\n",
    "    ax1.set_ylabel('2-20 keV flux [ph/cm$^2$/s]', size=14)\n",
    "    ax1.set_xlabel(\"Hardness ratio (4-10 keV / 2-4 keV)\", size=14)\n",
    "    ax1.set_xlim(0, 1.5)\n",
    "    ax1.set_ylim(0, )\n",
    "    return\n",
    "\n",
    "interact(plot_diagram, mjd_left=widgets.IntSlider(value=57000, min=55000, max=59270, step=30))"
   ]
  },
  {
   "cell_type": "code",
   "execution_count": null,
   "metadata": {},
   "outputs": [],
   "source": []
  },
  {
   "cell_type": "code",
   "execution_count": null,
   "metadata": {},
   "outputs": [],
   "source": []
  }
 ],
 "metadata": {
  "kernelspec": {
   "display_name": "Python 3 (ipykernel)",
   "language": "python",
   "name": "python3"
  },
  "language_info": {
   "codemirror_mode": {
    "name": "ipython",
    "version": 3
   },
   "file_extension": ".py",
   "mimetype": "text/x-python",
   "name": "python",
   "nbconvert_exporter": "python",
   "pygments_lexer": "ipython3",
   "version": "3.7.3"
  }
 },
 "nbformat": 4,
 "nbformat_minor": 2
}
