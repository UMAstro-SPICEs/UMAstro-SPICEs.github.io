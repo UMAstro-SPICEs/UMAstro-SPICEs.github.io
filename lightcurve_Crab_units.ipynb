{
 "cells": [
  {
   "cell_type": "code",
   "execution_count": null,
   "id": "87187b13",
   "metadata": {},
   "outputs": [],
   "source": [
    "import numpy as np\n",
    "import matplotlib.pyplot as plt\n",
    "\n",
    "from astropy.io import ascii\n",
    "\n",
    "from matplotlib.gridspec import GridSpec\n",
    "\n",
    "%matplotlib inline"
   ]
  },
  {
   "cell_type": "code",
   "execution_count": null,
   "id": "9dec76f0",
   "metadata": {},
   "outputs": [],
   "source": [
    "from maxi import MaxiData"
   ]
  },
  {
   "cell_type": "code",
   "execution_count": null,
   "id": "db03fa03",
   "metadata": {},
   "outputs": [],
   "source": [
    "TARGET = \"GX13+1\"\n",
    "maxi_data = MaxiData(\"data/{}_lc_1day_all.dat\".format(TARGET))\n",
    "\n",
    "#ax = plt.subplot(111)\n",
    "#maxi_data.plot(ax, 'total', color='b', lw=1, alpha=0.5)\n",
    "\n",
    "maxi_data.calibrate(thresh=5.0)\n",
    "ax = plt.subplot(111)\n",
    "maxi_data.plot(ax, 'soft', color='r', lw=1)"
   ]
  },
  {
   "cell_type": "code",
   "execution_count": null,
   "id": "8a7660d6",
   "metadata": {},
   "outputs": [],
   "source": [
    "ax = plt.subplot(111)\n",
    "maxi_data.plot(ax, 'med', color='g', lw=1)"
   ]
  },
  {
   "cell_type": "code",
   "execution_count": null,
   "id": "8bff3082",
   "metadata": {},
   "outputs": [],
   "source": [
    "np.std(maxi_data.soft) / np.mean(maxi_data.soft)"
   ]
  },
  {
   "cell_type": "code",
   "execution_count": null,
   "id": "abc8d66f",
   "metadata": {},
   "outputs": [],
   "source": [
    "np.std(maxi_data.med) / np.mean(maxi_data.med)"
   ]
  },
  {
   "cell_type": "markdown",
   "id": "8a9f8aa5",
   "metadata": {},
   "source": [
    "## What part of the Crab light curve am I ignoring with my threshold choice?"
   ]
  },
  {
   "cell_type": "code",
   "execution_count": null,
   "id": "78e725c5",
   "metadata": {},
   "outputs": [],
   "source": [
    "crab_data = MaxiData(\"data/Crab_lc_1day_all.dat\")\n",
    "\n",
    "thresh = 5.0\n",
    "ibad = np.abs(crab_data.soft - np.median(crab_data.soft)) > (thresh * np.std(crab_data.soft))\n",
    "\n",
    "ax = plt.subplot(111)\n",
    "crab_data.plot(ax, 'soft', color='k', lw=1)\n",
    "plt.plot(crab_data.mjd[ibad], crab_data.soft[ibad], 'o', color='r')"
   ]
  },
  {
   "cell_type": "markdown",
   "id": "f8ac3dd4",
   "metadata": {},
   "source": [
    "## 2-10 keV integrated"
   ]
  },
  {
   "cell_type": "code",
   "execution_count": null,
   "id": "7bd8e1b8",
   "metadata": {},
   "outputs": [],
   "source": [
    "md2 = MaxiData(\"data/{}_lc_1day_all.dat\".format(TARGET))\n",
    "crab = MaxiData(\"data/Crab_lc_1day_all.dat\")\n",
    "\n",
    "md2_broad = md2.soft + md2.med\n",
    "crab_broad = crab.soft + crab.med\n",
    "crab_interp = np.interp(md2.mjd, crab.mjd, crab_broad)"
   ]
  },
  {
   "cell_type": "code",
   "execution_count": null,
   "id": "7286f232",
   "metadata": {},
   "outputs": [],
   "source": [
    "plt.plot(md2.mjd, md2_broad/crab_interp)\n",
    "plt.ylim(0, 0.6)"
   ]
  },
  {
   "cell_type": "markdown",
   "id": "89c49089",
   "metadata": {},
   "source": [
    "**MAJOR NOTE:** My cflux calculation suggests 0.2 Crab (10^-8.3 / 2.4e-8 for the 2-10 keV range). This agrees with the paper Allen+ 2018, top of section 3.1.1, so I'm going with that number. Note also that Allen includes a pileup model and the majority of the pileup is in the > 4 keV range."
   ]
  }
 ],
 "metadata": {
  "kernelspec": {
   "display_name": "Python 3 (ipykernel)",
   "language": "python",
   "name": "python3"
  },
  "language_info": {
   "codemirror_mode": {
    "name": "ipython",
    "version": 3
   },
   "file_extension": ".py",
   "mimetype": "text/x-python",
   "name": "python",
   "nbconvert_exporter": "python",
   "pygments_lexer": "ipython3",
   "version": "3.7.3"
  }
 },
 "nbformat": 4,
 "nbformat_minor": 5
}
